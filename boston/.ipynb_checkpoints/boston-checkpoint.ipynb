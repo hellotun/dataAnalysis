{
 "cells": [
  {
   "cell_type": "code",
   "execution_count": 3,
   "metadata": {},
   "outputs": [],
   "source": [
    "from sklearn.ensemble import AdaBoostClassifier\n",
    "from sklearn.ensemble import AdaBoostRegressor\n",
    "from sklearn.model_selection import train_test_split\n",
    "from sklearn.metrics import mean_squared_error\n",
    "from sklearn.datasets import load_boston\n",
    "from sklearn.ensemble import AdaBoostRegressor\n",
    "from sklearn."
   ]
  },
  {
   "cell_type": "code",
   "execution_count": 14,
   "metadata": {},
   "outputs": [
    {
     "name": "stdout",
     "output_type": "stream",
     "text": [
      " 房价预测结果  [20.4254902  11.14363636 13.71333333 16.89106145 24.72277778 21.33496503\n",
      " 29.57572816 17.23333333 28.         20.9494382  29.99666667 33.99518072\n",
      " 11.89756098 24.72277778 13.06507937 25.16105263 16.7375     16.7375\n",
      " 27.72376682 25.66382979 17.04545455 17.04545455 17.04545455 19.52037037\n",
      " 31.45657895 18.07142857 22.335      24.72277778 12.0047619  29.99666667\n",
      " 16.89106145 26.4127907  10.69666667 21.33496503 26.28132296 31.15833333\n",
      " 25.95202703 11.86984127 15.60952381 25.87513514 14.14285714 12.58\n",
      " 28.453125   16.98579545 26.63529412 19.52037037 17.76540541 18.53019802\n",
      " 26.4127907  19.52037037 16.89106145 33.73571429 16.3025974  16.7375\n",
      " 25.87513514 21.05306122 25.76078431 16.41333333 25.66382979 22.46694915\n",
      " 18.5        16.7375     43.62222222 21.33496503 16.89106145 26.28132296\n",
      " 25.76078431 11.86984127 18.09444444 28.453125   22.7746988  18.49382716\n",
      " 17.         27.13955224 19.52037037 44.66666667 16.06530612 11.86984127\n",
      " 17.40689655 24.52928177 20.9494382  14.9        12.19866667 25.87513514\n",
      " 21.05306122 21.29       46.925      16.9        44.84666667 33.73571429\n",
      " 28.95843373 18.53019802 18.53019802 17.04545455 15.60952381 34.775\n",
      " 24.36099291 24.08225806 17.76540541 17.23333333 16.03095238 20.05789474\n",
      " 27.35129534 25.76078431 12.0047619  16.28928571 11.86984127 26.63529412\n",
      " 12.44464286 25.95202703 50.         12.19866667 17.23333333 25.76078431\n",
      " 31.15833333 24.52928177 21.29       21.05306122 27.72376682 20.84126984\n",
      " 20.69583333 17.04545455 12.44464286 21.05306122 21.33496503 17.13255814\n",
      " 43.62222222]\n",
      " 均方误差 =  16.9\n"
     ]
    }
   ],
   "source": [
    "# 加载数据\n",
    "data=load_boston()\n",
    "# 分割数据\n",
    "#random_state：代表随机数种子的设置\n",
    "train_x, test_x, train_y, test_y = train_test_split(data.data, data.target, test_size=0.25, random_state=33)\n",
    "# 使用 AdaBoost 回归模型\n",
    "regressor=AdaBoostRegressor()\n",
    "regressor.fit(train_x,train_y)\n",
    "pred_y = regressor.predict(test_x)\n",
    "mse = mean_squared_error(test_y, pred_y)\n",
    "print(\" 房价预测结果 \", pred_y)\n",
    "print(\" 均方误差 = \",round(mse,2))"
   ]
  },
  {
   "cell_type": "code",
   "execution_count": 18,
   "metadata": {},
   "outputs": [
    {
     "name": "stdout",
     "output_type": "stream",
     "text": [
      " 决策树均方误差 =  25.61\n",
      "KNN 均方误差 =  27.87\n"
     ]
    }
   ],
   "source": [
    "# 使用决策树回归模型\n",
    "from sklearn.tree import DecisionTreeRegressor\n",
    "from sklearn.neighbors import KNeighborsRegressor\n",
    "\n",
    "dec_regressor=DecisionTreeRegressor()\n",
    "dec_regressor.fit(train_x,train_y)\n",
    "pred_y = dec_regressor.predict(test_x)\n",
    "mse = mean_squared_error(test_y, pred_y)\n",
    "print(\" 决策树均方误差 = \",round(mse,2))\n",
    "\n",
    "# 使用 KNN 回归模型\n",
    "knn_regressor=KNeighborsRegressor()\n",
    "knn_regressor.fit(train_x,train_y)\n",
    "pred_y = knn_regressor.predict(test_x)\n",
    "mse = mean_squared_error(test_y, pred_y)\n",
    "print(\"KNN 均方误差 = \",round(mse,2))"
   ]
  },
  {
   "cell_type": "code",
   "execution_count": 24,
   "metadata": {},
   "outputs": [
    {
     "data": {
      "image/png": "[encoded data removed]",
      "text/plain": [
       "<Figure size 432x288 with 1 Axes>"
      ]
     },
     "metadata": {
      "needs_background": "light"
     },
     "output_type": "display_data"
    }
   ],
   "source": [
    "import numpy as np\n",
    "import matplotlib.pyplot as plt\n",
    "from sklearn import datasets\n",
    "from sklearn.metrics import zero_one_loss\n",
    "from sklearn.tree import DecisionTreeClassifier\n",
    "from sklearn.ensemble import  AdaBoostClassifier\n",
    "# 设置 AdaBoost 迭代次数\n",
    "n_estimators = 200\n",
    "\n",
    "X,y = datasets.make_hastie_10_2(n_samples=12000,random_state=1)\n",
    "# 从 12000 个数据中取前 2000 行作为测试集，其余作为训练集\n",
    "test_x, test_y = X[:2000],y[:2000]\n",
    "train_x, train_y = X[2000:],y[2000:]\n",
    "# 弱分类器 - 决策树分类器\n",
    "# 基于单层决策树构建弱分类器 boosting分类\n",
    "dt_stump = DecisionTreeClassifier(max_depth=1,min_samples_leaf=1)\n",
    "dt_stump.fit(train_x, train_y)\n",
    "dt_stump_err = 1.0-dt_stump.score(test_x, test_y)\n",
    "# 决策树分类器\n",
    "dt = DecisionTreeClassifier()\n",
    "dt.fit(train_x,  train_y)\n",
    "dt_err = 1.0-dt.score(test_x, test_y)\n",
    "# AdaBoost 分类器\n",
    "ada = AdaBoostClassifier(base_estimator=dt_stump,n_estimators=n_estimators)\n",
    "ada.fit(train_x,  train_y)\n",
    "\n",
    "# 三个分类器的错误率可视化\n",
    "fig = plt.figure()\n",
    "# 设置 plt 正确显示中文\n",
    "plt.rcParams['font.sans-serif'] = ['SimHei']\n",
    "#111”表示“1×1网格，第一子图\n",
    "ax = fig.add_subplot(111)\n",
    "ax.plot([1,n_estimators],[dt_stump_err] * 2, 'k-', label=u'决策树弱分类器 错误率')\n",
    "ax.plot([1,n_estimators],[dt_err] * 2,'k--', label=u'决策树模型 错误率')\n",
    "ada_err = np.zeros((n_estimators,))\n",
    "# 遍历每次迭代的结果 i 为迭代次数, pred_y 为预测结果\n",
    "for i,pred_y in enumerate(ada.staged_predict(test_x)):\n",
    "     # 统计错误率\n",
    "    ada_err[i]=zero_one_loss(pred_y, test_y)\n",
    "# 绘制每次迭代的 AdaBoost 错误率 \n",
    "ax.plot(np.arange(n_estimators)+1, ada_err, label='AdaBoost Test 错误率', color='orange')\n",
    "ax.set_xlabel('迭代次数')\n",
    "ax.set_ylabel('错误率')\n",
    "leg=ax.legend(loc='upper right',fancybox=True)\n",
    "plt.show()"
   ]
  }
 ],
 "metadata": {
  "kernelspec": {
   "display_name": "Python 3",
   "language": "python",
   "name": "python3"
  },
  "language_info": {
   "codemirror_mode": {
    "name": "ipython",
    "version": 3
   },
   "file_extension": ".py",
   "mimetype": "text/x-python",
   "name": "python",
   "nbconvert_exporter": "python",
   "pygments_lexer": "ipython3",
   "version": "3.7.3"
  }
 },
 "nbformat": 4,
 "nbformat_minor": 2
}
