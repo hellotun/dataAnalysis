{
 "cells": [
  {
   "cell_type": "code",
   "execution_count": 2,
   "metadata": {},
   "outputs": [],
   "source": [
    "# 中文文本分类\n",
    "import os\n",
    "import jieba\n",
    "import warnings\n",
    "from sklearn.feature_extraction.text import TfidfVectorizer\n",
    "from sklearn.naive_bayes import MultinomialNB\n",
    "from sklearn import metrics\n",
    "#忽略了警告错误的输出\n",
    "warnings.filterwarnings('ignore')"
   ]
  },
  {
   "cell_type": "code",
   "execution_count": 3,
   "metadata": {},
   "outputs": [],
   "source": [
    "#对文本进行切词\n",
    "def cut_words(file_path):\n",
    "    text_with_spaces = ''\n",
    "    text = open(file_path, 'r', encoding='gb18030').read()\n",
    "    textcut = jieba.cut(text)\n",
    "    for word in textcut:\n",
    "        text_with_spaces += word + ' '\n",
    "    return text_with_spaces"
   ]
  },
  {
   "cell_type": "code",
   "execution_count": 4,
   "metadata": {},
   "outputs": [],
   "source": [
    "def loadfile(file_dir, label):\n",
    "    #加载路径下的文件\n",
    "    file_list = os.listdir(file_dir)\n",
    "    words_list = []\n",
    "    labels_list = []\n",
    "    for file in file_list:\n",
    "        file_path = file_dir + '/' + file\n",
    "        words_list.append(cut_words(file_path))\n",
    "        labels_list.append(label)                                                                                                                 \n",
    "    return words_list, labels_list"
   ]
  },
  {
   "cell_type": "code",
   "execution_count": 7,
   "metadata": {},
   "outputs": [],
   "source": [
    "# 训练数据\n",
    "train_words_list1, train_labels1 = loadfile('text classification/train/女性', '女性')\n",
    "train_words_list2, train_labels2 = loadfile('text classification/train/体育', '体育')\n",
    "train_words_list3, train_labels3 = loadfile('text classification/train/文学', '文学')\n",
    "train_words_list4, train_labels4 = loadfile('text classification/train/校园', '校园')\n",
    "\n",
    "train_words_list = train_words_list1 + train_words_list2 + train_words_list3 + train_words_list4\n",
    "train_labels = train_labels1 + train_labels2 + train_labels3 + train_labels4\n",
    "\n",
    "# 测试数据\n",
    "test_words_list1, test_labels1 = loadfile('text classification/test/女性', '女性')\n",
    "test_words_list2, test_labels2 = loadfile('text classification/test/体育', '体育')\n",
    "test_words_list3, test_labels3 = loadfile('text classification/test/文学', '文学')\n",
    "test_words_list4, test_labels4 = loadfile('text classification/test/校园', '校园')\n",
    "\n",
    "test_words_list = test_words_list1 + test_words_list2 + test_words_list3 + test_words_list4\n",
    "test_labels = test_labels1 + test_labels2 + test_labels3 + test_labels4"
   ]
  },
  {
   "cell_type": "code",
   "execution_count": 8,
   "metadata": {},
   "outputs": [],
   "source": [
    "stop_words = open('text classification/stop/stopword.txt', 'r', encoding='utf-8').read()\n",
    "stop_words = stop_words.encode('utf-8').decode('utf-8-sig') # 列表头部\\ufeff处理\n",
    "stop_words = stop_words.split('\\n') # 根据分隔符分隔"
   ]
  },
  {
   "cell_type": "code",
   "execution_count": 10,
   "metadata": {},
   "outputs": [],
   "source": [
    "# 计算单词权重\n",
    "#max_df 参数用来描述单词在文档中的最高出现率。\n",
    "#max_df=0.5，代表一个单词在 50% 的文档中都出现过，只携带了非常少的信息，因此就不作为分词统计\n",
    "tfidf = TfidfVectorizer(stop_words=stop_words, max_df=0.5)\n",
    "\n",
    "train_features = tfidf.fit_transform(train_words_list)\n",
    "test_features = tfidf.transform(test_words_list) "
   ]
  },
  {
   "cell_type": "code",
   "execution_count": 12,
   "metadata": {},
   "outputs": [
    {
     "name": "stdout",
     "output_type": "stream",
     "text": [
      "准确率为： 0.91\n"
     ]
    }
   ],
   "source": [
    "# 多项式贝叶斯分类器\n",
    "# alpha 为平滑参数 alpha=1 时是 Laplace 平滑。Laplace 平滑就是采用加 1 的方式，来统计没有出现过的单词的概率。\n",
    "#当 0<alpha<1 时是 Lidstone 平滑。alpha 越小，迭代次数越多，精度越高。\n",
    "from sklearn.naive_bayes import MultinomialNB  \n",
    "clf = MultinomialNB(alpha=0.001).fit(train_features, train_labels)\n",
    "predicted_labels=clf.predict(test_features)\n",
    "\n",
    "# 计算准确率\n",
    "print('准确率为：', metrics.accuracy_score(test_labels, predicted_labels))"
   ]
  }
 ],
 "metadata": {
  "kernelspec": {
   "display_name": "Python 3",
   "language": "python",
   "name": "python3"
  },
  "language_info": {
   "codemirror_mode": {
    "name": "ipython",
    "version": 3
   },
   "file_extension": ".py",
   "mimetype": "text/x-python",
   "name": "python",
   "nbconvert_exporter": "python",
   "pygments_lexer": "ipython3",
   "version": "3.7.3"
  }
 },
 "nbformat": 4,
 "nbformat_minor": 2
}
